{
 "cells": [
  {
   "cell_type": "code",
   "execution_count": 1,
   "metadata": {},
   "outputs": [
    {
     "name": "stderr",
     "output_type": "stream",
     "text": [
      "c:\\Users\\silar\\OneDrive\\Desktop\\minor_class_work\\qpgen\\githubcopilot\\.venv\\Lib\\site-packages\\pinecone\\data\\index.py:1: TqdmWarning: IProgress not found. Please update jupyter and ipywidgets. See https://ipywidgets.readthedocs.io/en/stable/user_install.html\n",
      "  from tqdm.autonotebook import tqdm\n"
     ]
    }
   ],
   "source": [
    "import getpass\n",
    "import os\n",
    "import time\n",
    "\n",
    "from pinecone import Pinecone, ServerlessSpec\n",
    "from dotenv import load_dotenv\n",
    "load_dotenv()\n",
    "os.environ['OPENAI_API_KEY'] = os.getenv('OPENAI_API_KEY')\n",
    "os.environ['PINECONE_API_KEY'] = os.getenv('PINECONE_API_KEY')\n",
    "os.environ['LANGCHAIN_TRACING_V2']='true'\n",
    "os.environ['LANGCHAIN_API_KEY']=os.getenv('LANGCHAIN_API_KEY')\n",
    "\n",
    "pinecone_api_key = os.environ.get(\"PINECONE_API_KEY\")\n",
    "\n",
    "pc = Pinecone(api_key=pinecone_api_key)"
   ]
  },
  {
   "cell_type": "code",
   "execution_count": 2,
   "metadata": {},
   "outputs": [],
   "source": [
    "import time\n",
    "\n",
    "index_name = \"hybrid\"  # change if desired\n",
    "\n",
    "existing_indexes = [index_info[\"name\"] for index_info in pc.list_indexes()]\n",
    "\n",
    "if index_name not in existing_indexes:\n",
    "    pc.create_index(\n",
    "        name=index_name,\n",
    "        dimension=3072,\n",
    "        metric=\"cosine\",\n",
    "        spec=ServerlessSpec(cloud=\"aws\", region=\"us-east-1\"),\n",
    "    )\n",
    "    while not pc.describe_index(index_name).status[\"ready\"]:\n",
    "        time.sleep(1)\n",
    "\n",
    "index = pc.Index(index_name)"
   ]
  },
  {
   "cell_type": "code",
   "execution_count": 3,
   "metadata": {},
   "outputs": [],
   "source": [
    "from langchain_openai import OpenAIEmbeddings\n",
    "\n",
    "embeddings = OpenAIEmbeddings(model=\"text-embedding-3-large\")"
   ]
  },
  {
   "cell_type": "code",
   "execution_count": 4,
   "metadata": {},
   "outputs": [
    {
     "name": "stdout",
     "output_type": "stream",
     "text": [
      "BM25 retriever loaded.\n"
     ]
    }
   ],
   "source": [
    "# Load BM25Retriever from a file\n",
    "import pickle\n",
    "with open(\"bm25_model.pkl\", \"rb\") as f:\n",
    "    bm25_retriever = pickle.load(f)\n",
    "\n",
    "print(\"BM25 retriever loaded.\")"
   ]
  },
  {
   "cell_type": "code",
   "execution_count": 5,
   "metadata": {},
   "outputs": [],
   "source": [
    "from langchain.vectorstores import Pinecone\n",
    "name =\" \" # agent to find the correct namespace from the index\n",
    "vector_store = Pinecone.from_existing_index(index_name=index_name, embedding=embeddings)"
   ]
  },
  {
   "cell_type": "code",
   "execution_count": 6,
   "metadata": {},
   "outputs": [
    {
     "data": {
      "text/plain": [
       "VectorStoreRetriever(tags=['Pinecone', 'OpenAIEmbeddings'], vectorstore=<langchain_community.vectorstores.pinecone.Pinecone object at 0x000001BF58BD9650>, search_type='similarity_score_threshold', search_kwargs={'score_threshold': 0.25})"
      ]
     },
     "execution_count": 6,
     "metadata": {},
     "output_type": "execute_result"
    }
   ],
   "source": [
    "# setting up retreiver\n",
    "retriever = vector_store.as_retriever(\n",
    "        search_type=\"mmr\",\n",
    "        search_kwargs={'k': 20, 'fetch_k': 50}\n",
    "    )\n",
    "retriever\n",
    "\n",
    "#2\n",
    "retriever2 = vector_store.as_retriever(\n",
    "        search_type=\"similarity_score_threshold\",\n",
    "        search_kwargs={'score_threshold': 0.25}\n",
    "    )\n",
    "retriever2"
   ]
  },
  {
   "cell_type": "code",
   "execution_count": 7,
   "metadata": {},
   "outputs": [],
   "source": [
    "from langchain.retrievers import EnsembleRetriever\n",
    "\n",
    "ensemble_retriever = EnsembleRetriever(\n",
    "    retrievers=[bm25_retriever, retriever],\n",
    "    weights=[0.5, 0]  # Adjust weights as needed\n",
    ")\n",
    "\n",
    "\n",
    "ensemble_retriever2 = EnsembleRetriever(\n",
    "    retrievers=[bm25_retriever, retriever2],\n",
    "    weights=[0.5, 0.5]  # Adjust weights as needed\n",
    ")"
   ]
  },
  {
   "cell_type": "code",
   "execution_count": 8,
   "metadata": {},
   "outputs": [
    {
     "name": "stdout",
     "output_type": "stream",
     "text": [
      "input_variables=['context', 'difficulty', 'input', 'number', 'other', 'qn_type', 'special_mention'] input_types={} partial_variables={} messages=[HumanMessagePromptTemplate(prompt=PromptTemplate(input_variables=['context', 'difficulty', 'input', 'number', 'other', 'qn_type', 'special_mention'], input_types={}, partial_variables={}, template=\"You are a teaching assistant, and your task is to make a question paper for the students for a certain class.\\nThe question paper can have multiple types of questions like MCQs, short answer questions, long answer questions, numerical questions, graphs, descriptive questions, etc.\\nYou have to design a question paper for the students such that it helps them understand the concepts well.\\nHere are some of the things to keep in mind:\\n1. The question paper should be based on the chapter selected.\\n2. The question paper should be based on the learning objectives provided (if any).\\n3. The question paper should be based on the difficulty level selected.\\n4. The question paper should be based on the number of questions selected.\\n5. The question paper should contain all types of questions that are specified (like MCQs, short answer questions, long answer questions, numerical questions, graphs, descriptive questions, etc.) check the info provided in 'Question type' and follow that.\\n6. If some topics are mentioned specifically, add those as well (do not exclude other topics because of these topics).\\n7. Make sure there are no extremely similar questions just to fill the question paper.\\n8. Make the question paper more interesting and engaging for the students (don’t overcomplicate it).\\n9. If any additional instructions are provided, follow those.\\n10. Always verify the information before making the question paper.\\n11. only make accurate questions, if not possible, make only as many as possible.\\n12. divide the response into 2 parts, # questions and then #answers\\n13. in #questions only mention the questions and in the #answers give the answers/solutions of the respective answers\\n14. if there are any questions available in the context that are related to the topics that we have to make questions on, then only make similar questions to those ones also. \\n<context> {context}<context>\\nTopic:{input}\\nQuestion type:{qn_type}\\nDifficulty: {difficulty}\\nNumber of sections in the Question paper: {number}\\nSpecial Topics to also add: {special_mention}\\nOther Instructions: {other}\\n\"), additional_kwargs={})]\n"
     ]
    }
   ],
   "source": [
    "from config import p\n",
    "\n",
    "from langchain_openai import ChatOpenAI\n",
    "llm = ChatOpenAI(model_name=\"gpt-4o-mini\", temperature=0.5)\n",
    "llm\n",
    "\n",
    "from langchain_core.prompts import ChatPromptTemplate\n",
    "\n",
    "prompt = ChatPromptTemplate.from_template(template=p)\n",
    "print(prompt)\n",
    "\n"
   ]
  },
  {
   "cell_type": "code",
   "execution_count": 9,
   "metadata": {},
   "outputs": [
    {
     "name": "stdout",
     "output_type": "stream",
     "text": [
      "input_variables=['context', 'difficulty', 'input', 'number', 'other', 'qn_type', 'special_mention'] input_types={} partial_variables={} messages=[HumanMessagePromptTemplate(prompt=PromptTemplate(input_variables=['context', 'difficulty', 'input', 'number', 'other', 'qn_type', 'special_mention'], input_types={}, partial_variables={}, template=\"You are a teaching assistant, and your task is to make a question paper for the students for a certain class.\\nThe question paper can have multiple types of questions like MCQs, short answer questions, long answer questions, numerical questions, graphs, descriptive questions, etc.\\nYou have to design a question paper for the students such that it helps them understand the concepts well.\\nHere are some of the things to keep in mind:\\n1. The question paper should be based on the chapter selected.\\n2. The question paper should be based on the learning objectives provided (if any).\\n3. The question paper should be based on the difficulty level selected.\\n4. The question paper should be based on the number of questions selected.\\n5. The question paper should contain all types of questions that are specified (like MCQs, short answer questions, long answer questions, numerical questions, graphs, descriptive questions, etc.) check the info provided in 'Question type' and follow that.\\n6. If some topics are mentioned specifically, add those as well (do not exclude other topics because of these topics).\\n7. Make sure there are no extremely similar questions just to fill the question paper.\\n8. Make the question paper more interesting and engaging for the students (don’t overcomplicate it).\\n9. If any additional instructions are provided, follow those.\\n10. Always verify the information before making the question paper.\\n11. only make accurate questions, if not possible, make only as many as possible.\\n12. divide the response into 2 parts, # questions and then #answers\\n13. in #questions only mention the questions and in the #answers give the answers/solutions of the respective answers\\n14. if there are any questions available in the context that are related to the topics that we have to make questions on, then only make similar questions to those ones also. \\n<context> {context}<context>\\nTopic:{input}\\nQuestion type:{qn_type}\\nDifficulty: {difficulty}\\nNumber of sections in the Question paper: {number}\\nSpecial Topics to also add: {special_mention}\\nOther Instructions: {other}\\n\"), additional_kwargs={})]\n"
     ]
    }
   ],
   "source": [
    "from langchain_openai import ChatOpenAI\n",
    "llm = ChatOpenAI(model_name=\"gpt-4o-mini\", temperature=0.5)\n",
    "llm\n",
    "\n",
    "from langchain_core.prompts import ChatPromptTemplate\n",
    "\n",
    "prompt = ChatPromptTemplate.from_template(template=p)\n",
    "print(prompt)\n"
   ]
  },
  {
   "cell_type": "code",
   "execution_count": 10,
   "metadata": {},
   "outputs": [],
   "source": [
    "def prompt_template(input,\n",
    "           qn_type=[\"multiple choice\", \"short answer\", \"long answer\", \"numericals\"],\n",
    "           qn_type_count = [5,2,2,5],\n",
    "           difficulty='medium',\n",
    "           number='10',\n",
    "           special_mention='none',\n",
    "           other='none'):\n",
    "    \n",
    "\n",
    "    # type of qns:\n",
    "\n",
    "    dictionary = dict(zip(qn_type, qn_type_count))\n",
    "    question_type = ''\n",
    "    for x in dictionary:\n",
    "        q = x\n",
    "        qn = dictionary[q]\n",
    "        question_type = question_type + f\"{q}s: {qn}, \"\n",
    "        \n",
    "\n",
    "    # making final prompt\n",
    "    providing_data = {'input':input,\n",
    "                    'qn_type':question_type,\n",
    "                     'difficulty':difficulty,\n",
    "                     'number':number,\n",
    "                     'special_mention':special_mention,\n",
    "                     'other':other\n",
    "                     }\n",
    "    return providing_data"
   ]
  },
  {
   "cell_type": "code",
   "execution_count": 11,
   "metadata": {},
   "outputs": [],
   "source": [
    "from langchain.chains.combine_documents import create_stuff_documents_chain\n",
    "\n",
    "document_chain = create_stuff_documents_chain(\n",
    "    llm=llm,\n",
    "    prompt=prompt\n",
    ")"
   ]
  },
  {
   "cell_type": "code",
   "execution_count": 12,
   "metadata": {},
   "outputs": [],
   "source": [
    "from langchain.chains import create_retrieval_chain\n",
    "retrieval_chain=create_retrieval_chain(ensemble_retriever,document_chain)"
   ]
  },
  {
   "cell_type": "code",
   "execution_count": 13,
   "metadata": {},
   "outputs": [],
   "source": [
    "input = \"What are ions?\"\n",
    "result = prompt_template(\n",
    "    input=input,\n",
    "    #qn_type=[\"mcq\", \"short_answer\", \"long_answer\", \"numerical\"],\n",
    "    #qn_type='numerical',\n",
    "    qn_type_count=[5,5,0,10],\n",
    "    difficulty=\"medium\",\n",
    "    number=\"2\",\n",
    "    special_mention=\"Focus on equation based questions\",\n",
    "    other=\"Try to cover formulas from these topics\"\n",
    ")\n",
    "r = result\n"
   ]
  },
  {
   "cell_type": "code",
   "execution_count": 14,
   "metadata": {},
   "outputs": [
    {
     "data": {
      "text/plain": [
       "{'input': 'What are ions?',\n",
       " 'qn_type': 'multiple choices: 5, short answers: 5, long answers: 0, numericalss: 10, ',\n",
       " 'difficulty': 'medium',\n",
       " 'number': '2',\n",
       " 'special_mention': 'Focus on equation based questions',\n",
       " 'other': 'Try to cover formulas from these topics',\n",
       " 'context': [Document(metadata={}, page_content='1.BASIC CONCEPTS, SYMBOLS AND FORMULA \\n \\n5 \\n SANKALP GROUP OF SCHOOLS \\n  \\n5. Define the term \\'Atomic Weight\\'. Give two examples in which elements have fractional \\natomic weights. \\n6. Write the value of 1 atomic mass unit (1 amu) in kg. \\n7. Write the definition of the term \\'mole\\'. \\n8. How many electrons are there in 1.5 mole of electrons. \\n9. Name the S.I. unit of mass. \\n10. Name the S.I. unit of density of an object. \\n11. What is the length of an insect in meter which is 5.3pm ? \\n12. Convert 30.5∘C into temperature in Fahrenheit scale. \\n13. What is the S.I. unit of Force? \\n14. What is the S.I. unit of power? \\nHint. Power is energy per unit time. In SI unit, it is expressed in Js−1. \\n15. Fill in the blanks in the following conversion. 1 km = ⋯ mm = ⋯ pm \\n16. What is the full form of S.I. units? \\nHint. It stands for \\'System international 𝑑 \\' unit\". \\n17. What is the length in inches of a road which is 5 km long? \\n18. A man weighs 200lb. Express his weight in kg. Ans. 90.73 kg. \\n19. Express 2mg into the basic unit. \\n20. If the speed of light is 3.0 × 108 ms−1. Calculate the distance covered by light in 2.0 ns. \\n \\nSYMBOLS AND FORMULAE \\n \\n1. FIRST CAPITAL LETTER REPRESENTING THE NAME OF THE ELEMENT \\nElement Symbol \\nBoron B \\nCarbon C \\nFluorine F \\nHydrogen H \\nIodine I \\nOxygen O \\nPhosphorus P \\nSulphur S \\nUranium U \\nVanadium V \\n2. TWO LETTERS REPRESENTING THE NAME OF THE ELEMENT \\nElement Symbol Element Symbol \\nAluminium Al Magnesium Mg \\nArgon Ar Manganese Mn \\nArsenic As Molybdenum Mo \\nAstatine At Nickel Ni \\nBarium Ba Neon Ne'),\n",
       "  Document(metadata={}, page_content='1.BASIC CONCEPTS, SYMBOLS AND FORMULA \\n \\n2 \\n             SANKALP GROUP OF SCHOOLS \\n \\n2. COMPOUND \\nDefinition: A compound is a substance formed when two or more elements are chemically bonded \\ntogether. The ratio of the elements in a compound is always fixed. \\n• Meaning: The term \"compound\" comes from the Latin \"componere\", which means \"to put \\ntogether\". In the context of chemistry, a compound refers to a substance made up of two or \\nmore elements that are chemically combined in a fixed ratio. \\n• Examples: Examples of compounds include water (H2O), carbon dioxide (CO2), sodium \\nchloride (NaCl), and methane CH4. \\n• Categories: Compounds can be categorized into various types based on their bonding and \\nstructure, such as ionic compounds (e.g., NaCl ), covalent compounds (e.g., H2O), and \\nmetallic compounds (e.g., bronze, which is a compound of copper and tin). \\n3. MIXTURE \\nDefinition: A mixture is a combination of two or more substances in which each substance \\nretains its individual chemical properties. The composition of a mixture can vary. \\n• Meaning: The term \"mixture\" comes from the Latin \"mixtura\", which means \"a mixing\". In \\nthe context of chemistry, a mixture refers to a combination of substances that are not \\nchemically bonded together. \\n• Examples: Examples of mixtures include air (a mixture of nitrogen, oxygen, and small \\namounts of other gases), salt water (a mixture of water and salt), and salad (a mixture of \\nvarious food items). \\n• Categories: Mixtures can be categorized as either homogeneous mixtures (also known as \\nsolutions, where the substances are uniformly distributed, like salt water) or heterogeneous \\nmixtures (where the substances are not uniformly distributed, like salad). \\nDIFFERENCES BETWEEN COMPOUND AND MIXTURE \\nAspect Compound Mixture \\nDefinition \\n A substance formed when two or \\n more elements are chemically \\n bonded together in a fixed ratio. \\n \\n A combination of two or more substances in \\n which each substance retains its individual \\n chemical properties and the composition can \\n vary. \\n \\nBonding  Elements in a compound are \\n chemically bonded.   Substances in a mixture are not chemically \\n bonded.  \\nComposition  The ratio of elements in a \\n compound is fixed.  The composition of a mixture can vary. \\nSeparation \\n Compounds can be separated into \\n their elements only by chemical \\n methods. \\n \\n Mixtures can be separated into their \\n components by physical methods like \\n filtration, distillation, etc. \\n \\n Physical \\n Properties  \\n The properties of a compound are \\n different from those of its \\n constituent elements. \\n  The properties of a mixture are the sum of the \\n properties of its components.  \\nExamples Water (H2O), Carbon-dioxide \\n(CO2), Sodium chloride (NaCl) Air, salt water, salad \\n \\nATOM \\nDefinition: An atom is the smallest unit of an element that retains the chemical properties of that \\nelement. It consists of a nucleus containing protons and neutrons, surrounded by electrons.'),\n",
       "  Document(metadata={}, page_content='Physical \\n Properties  \\n The properties of a compound are \\n different from those of its \\n constituent elements. \\n  The properties of a mixture are the sum of the \\n properties of its components.  \\nExamples Water (H2O), Carbon-dioxide \\n(CO2), Sodium chloride (NaCl) Air, salt water, salad \\n \\nATOM \\nDefinition: An atom is the smallest unit of an element that retains the chemical properties of that \\nelement. It consists of a nucleus containing protons and neutrons, surrounded by electrons. \\n• Meaning: The term \"atom\" comes from the Greek \"atomos\", which means \"indivisible\". \\nDespite this original meaning, we now know that atoms are composed of subatomic particles \\nand are not indivisible. \\n• Examples: Examples of atoms include a hydrogen atom ( 1H), a carbon atom ( 12C), and an \\noxygen atom ( 16O). \\nMOLECULE \\nDefinition: A molecule is the smallest unit of a substance that retains the chemical properties of that \\nsubstance. It consists of two or more atoms bonded together.'),\n",
       "  Document(metadata={}, page_content=\"contains Avogadro's number (6.022 × 1023) of particles (atoms, molecules, ions, etc.). \\nFor instance, one mole of carbon (C) has a mass of about 12 grams, and in that 12 grams of carbon, \\nthere are 6.022 × 1023 atoms of carbon. Similarly, one mole of water (H2O) has a mass of about 18 \\ngrams (since the molecular weight of water is approximately 18), and in that 18 grams of water, there \\nare 6.022 × 1023 molecules of water. \\n \\nEXERCISE 1: \\n \\nFill in the blanks: \\n(i) In the language of chemistry____ are used to express elements and.... represent compounds. \\n(ii) Properties of a compound are... from the properties of the elements of which it is made of. \\n(iii) The elements can be classified as____ and___ \\n(iv) ____is a metal which exists in the liquid state. \\n(v) Among the non-metals_____exists in the liquid state. \\n(vi) Sulphur is a___ while____ is a metalloid. \\nShort answer questions \\n1. Define the term, 'Element'. Name two elements. \\n2. Define the term 'Compound'. Is O2 and O3 are elements or compounds? \\n3. Give one property by which an element differs from a compound. \\n4. Define the term 'atom'. Can an element possess independent existence.\")],\n",
       " 'answer': \"# Questions\\n\\n### Section 1: Multiple Choice Questions (MCQs)\\n1. Which of the following best defines an ion?\\n   a) A neutral atom  \\n   b) An atom that has gained or lost electrons  \\n   c) A molecule made of two or more atoms  \\n   d) A type of compound  \\n\\n2. What is the charge of a sodium ion (Na⁺)?\\n   a) Negative  \\n   b) Positive  \\n   c) Neutral  \\n   d) Variable  \\n\\n3. Which of the following ions is a common component of table salt?\\n   a) Na⁺  \\n   b) Cl⁻  \\n   c) Ca²⁺  \\n   d) Both a and b  \\n\\n4. Anions are formed when an atom:\\n   a) Loses electrons  \\n   b) Gains electrons  \\n   c) Gains protons  \\n   d) Loses neutrons  \\n\\n5. The ion with the chemical formula SO₄²⁻ is known as:\\n   a) Sulfate  \\n   b) Sulfite  \\n   c) Sulfur  \\n   d) Sulfide  \\n\\n### Section 2: Short Answer Questions\\n1. Define the term 'ion' and explain how ions are formed.\\n2. What is the significance of ions in chemical reactions? Provide an example.\\n3. Describe the difference between cations and anions.\\n4. Explain how ionic compounds are formed using sodium chloride as an example.\\n5. What role do ions play in biological systems?\\n\\n### Section 3: Numerical Questions\\n1. Calculate the number of electrons in a magnesium ion (Mg²⁺) if its atomic number is 12.\\n2. If 1 mole of NaCl contains Avogadro's number of ions, how many ions are present in 2 moles of NaCl?\\n3. A solution contains 0.5 moles of KCl. How many moles of ions are present in the solution?\\n4. Calculate the mass of 3 moles of calcium ions (Ca²⁺) in grams (atomic weight of Ca = 40.08 g/mol).\\n5. If the concentration of Na⁺ ions in a solution is 0.2 M, how many moles of Na⁺ are present in 1 liter of the solution?\\n6. Determine the charge of an ion formed by an element with an atomic number of 15 when it gains 3 electrons.\\n7. If a compound contains 2 moles of Na⁺ and 1 mole of Cl⁻, how many total moles of ions are present?\\n8. Calculate the total number of ions in a 0.5 M solution of MgCl₂ in a 2-liter container.\\n9. If a potassium ion (K⁺) has a mass of approximately 39.1 g/mol, what is the mass of 0.25 moles of K⁺ in grams?\\n10. How many electrons are lost when a sulfur atom (atomic number 16) forms a sulfide ion (S²⁻)?\\n\\n---\\n\\n# Answers\\n\\n### Section 1: Multiple Choice Questions (MCQs)\\n1. b) An atom that has gained or lost electrons  \\n2. b) Positive  \\n3. d) Both a and b  \\n4. b) Gains electrons  \\n5. a) Sulfate  \\n\\n### Section 2: Short Answer Questions\\n1. An ion is an atom or molecule that has a net electrical charge due to the loss or gain of one or more electrons. Ions are formed when atoms lose electrons (forming cations) or gain electrons (forming anions).\\n2. Ions are crucial in chemical reactions as they participate in the formation of ionic compounds and influence the properties of solutions. For example, in neutralizing acids, H⁺ ions from acids react with OH⁻ ions from bases to form water.\\n3. Cations are positively charged ions formed by the loss of electrons, while anions are negatively charged ions formed by the gain of electrons.\\n4. Ionic compounds like sodium chloride (NaCl) are formed when sodium (Na) loses an electron to become Na⁺ and chlorine (Cl) gains that electron to become Cl⁻, resulting in an electrostatic attraction that forms the compound.\\n5. Ions are essential in biological systems for processes such as nerve impulse transmission and muscle contraction, as they help maintain electrical gradients across cell membranes.\\n\\n### Section 3: Numerical Questions\\n1. Magnesium ion (Mg²⁺) has lost 2 electrons, so it has 10 electrons (12 - 2 = 10).\\n2. 2 moles of NaCl contain 2 moles of Na⁺ and 2 moles of Cl⁻, totaling 4 moles of ions.\\n3. 0.5 moles of KCl yield 0.5 moles of K⁺ and 0.5 moles of Cl⁻, totaling 1 mole of ions.\\n4. The mass of 3 moles of Ca²⁺ is 3 moles × 40.08 g/mol = 120.24 grams.\\n5. In 1 liter of solution, there are 0.2 moles of Na⁺.\\n6. The charge of the ion would be -3 (gaining 3 electrons).\\n7. The total moles of ions present are 2 moles (Na⁺) + 1 mole (Cl⁻) = 3 moles of ions.\\n8. In a 0.5 M solution of MgCl₂, there are 3 ions per formula unit (1 Mg²⁺ and 2 Cl⁻). For 2 liters, total ions = 0.5 moles/L × 2 L × 3 = 3 moles of ions.\\n9. The mass of 0.25 moles of K⁺ is 0.25 moles × 39.1 g/mol = 9.775 grams.\\n10. A sulfur atom loses 2 electrons to form a sulfide ion (S²⁻).\"}"
      ]
     },
     "execution_count": 14,
     "metadata": {},
     "output_type": "execute_result"
    }
   ],
   "source": [
    "response=retrieval_chain.invoke(r) #ai agent to make prompts better\n",
    "response"
   ]
  },
  {
   "cell_type": "code",
   "execution_count": 15,
   "metadata": {},
   "outputs": [
    {
     "name": "stdout",
     "output_type": "stream",
     "text": [
      "# Questions\n",
      "\n",
      "### Section 1: Multiple Choice Questions (MCQs)\n",
      "1. Which of the following best defines an ion?\n",
      "   a) A neutral atom  \n",
      "   b) An atom that has gained or lost electrons  \n",
      "   c) A molecule made of two or more atoms  \n",
      "   d) A type of compound  \n",
      "\n",
      "2. What is the charge of a sodium ion (Na⁺)?\n",
      "   a) Negative  \n",
      "   b) Positive  \n",
      "   c) Neutral  \n",
      "   d) Variable  \n",
      "\n",
      "3. Which of the following ions is a common component of table salt?\n",
      "   a) Na⁺  \n",
      "   b) Cl⁻  \n",
      "   c) Ca²⁺  \n",
      "   d) Both a and b  \n",
      "\n",
      "4. Anions are formed when an atom:\n",
      "   a) Loses electrons  \n",
      "   b) Gains electrons  \n",
      "   c) Gains protons  \n",
      "   d) Loses neutrons  \n",
      "\n",
      "5. The ion with the chemical formula SO₄²⁻ is known as:\n",
      "   a) Sulfate  \n",
      "   b) Sulfite  \n",
      "   c) Sulfur  \n",
      "   d) Sulfide  \n",
      "\n",
      "### Section 2: Short Answer Questions\n",
      "1. Define the term 'ion' and explain how ions are formed.\n",
      "2. What is the significance of ions in chemical reactions? Provide an example.\n",
      "3. Describe the difference between cations and anions.\n",
      "4. Explain how ionic compounds are formed using sodium chloride as an example.\n",
      "5. What role do ions play in biological systems?\n",
      "\n",
      "### Section 3: Numerical Questions\n",
      "1. Calculate the number of electrons in a magnesium ion (Mg²⁺) if its atomic number is 12.\n",
      "2. If 1 mole of NaCl contains Avogadro's number of ions, how many ions are present in 2 moles of NaCl?\n",
      "3. A solution contains 0.5 moles of KCl. How many moles of ions are present in the solution?\n",
      "4. Calculate the mass of 3 moles of calcium ions (Ca²⁺) in grams (atomic weight of Ca = 40.08 g/mol).\n",
      "5. If the concentration of Na⁺ ions in a solution is 0.2 M, how many moles of Na⁺ are present in 1 liter of the solution?\n",
      "6. Determine the charge of an ion formed by an element with an atomic number of 15 when it gains 3 electrons.\n",
      "7. If a compound contains 2 moles of Na⁺ and 1 mole of Cl⁻, how many total moles of ions are present?\n",
      "8. Calculate the total number of ions in a 0.5 M solution of MgCl₂ in a 2-liter container.\n",
      "9. If a potassium ion (K⁺) has a mass of approximately 39.1 g/mol, what is the mass of 0.25 moles of K⁺ in grams?\n",
      "10. How many electrons are lost when a sulfur atom (atomic number 16) forms a sulfide ion (S²⁻)?\n",
      "\n",
      "---\n",
      "\n",
      "# Answers\n",
      "\n",
      "### Section 1: Multiple Choice Questions (MCQs)\n",
      "1. b) An atom that has gained or lost electrons  \n",
      "2. b) Positive  \n",
      "3. d) Both a and b  \n",
      "4. b) Gains electrons  \n",
      "5. a) Sulfate  \n",
      "\n",
      "### Section 2: Short Answer Questions\n",
      "1. An ion is an atom or molecule that has a net electrical charge due to the loss or gain of one or more electrons. Ions are formed when atoms lose electrons (forming cations) or gain electrons (forming anions).\n",
      "2. Ions are crucial in chemical reactions as they participate in the formation of ionic compounds and influence the properties of solutions. For example, in neutralizing acids, H⁺ ions from acids react with OH⁻ ions from bases to form water.\n",
      "3. Cations are positively charged ions formed by the loss of electrons, while anions are negatively charged ions formed by the gain of electrons.\n",
      "4. Ionic compounds like sodium chloride (NaCl) are formed when sodium (Na) loses an electron to become Na⁺ and chlorine (Cl) gains that electron to become Cl⁻, resulting in an electrostatic attraction that forms the compound.\n",
      "5. Ions are essential in biological systems for processes such as nerve impulse transmission and muscle contraction, as they help maintain electrical gradients across cell membranes.\n",
      "\n",
      "### Section 3: Numerical Questions\n",
      "1. Magnesium ion (Mg²⁺) has lost 2 electrons, so it has 10 electrons (12 - 2 = 10).\n",
      "2. 2 moles of NaCl contain 2 moles of Na⁺ and 2 moles of Cl⁻, totaling 4 moles of ions.\n",
      "3. 0.5 moles of KCl yield 0.5 moles of K⁺ and 0.5 moles of Cl⁻, totaling 1 mole of ions.\n",
      "4. The mass of 3 moles of Ca²⁺ is 3 moles × 40.08 g/mol = 120.24 grams.\n",
      "5. In 1 liter of solution, there are 0.2 moles of Na⁺.\n",
      "6. The charge of the ion would be -3 (gaining 3 electrons).\n",
      "7. The total moles of ions present are 2 moles (Na⁺) + 1 mole (Cl⁻) = 3 moles of ions.\n",
      "8. In a 0.5 M solution of MgCl₂, there are 3 ions per formula unit (1 Mg²⁺ and 2 Cl⁻). For 2 liters, total ions = 0.5 moles/L × 2 L × 3 = 3 moles of ions.\n",
      "9. The mass of 0.25 moles of K⁺ is 0.25 moles × 39.1 g/mol = 9.775 grams.\n",
      "10. A sulfur atom loses 2 electrons to form a sulfide ion (S²⁻).\n"
     ]
    }
   ],
   "source": [
    "print(response['answer'])"
   ]
  },
  {
   "cell_type": "code",
   "execution_count": null,
   "metadata": {},
   "outputs": [],
   "source": []
  }
 ],
 "metadata": {
  "kernelspec": {
   "display_name": ".venv",
   "language": "python",
   "name": "python3"
  },
  "language_info": {
   "codemirror_mode": {
    "name": "ipython",
    "version": 3
   },
   "file_extension": ".py",
   "mimetype": "text/x-python",
   "name": "python",
   "nbconvert_exporter": "python",
   "pygments_lexer": "ipython3",
   "version": "3.11.5"
  }
 },
 "nbformat": 4,
 "nbformat_minor": 2
}
