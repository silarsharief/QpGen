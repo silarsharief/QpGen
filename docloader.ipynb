{
 "cells": [
  {
   "cell_type": "code",
   "execution_count": 4,
   "metadata": {},
   "outputs": [],
   "source": [
    "import getpass\n",
    "import os\n",
    "import time\n",
    "\n",
    "from pinecone import Pinecone, ServerlessSpec\n",
    "from dotenv import load_dotenv\n",
    "load_dotenv()\n",
    "os.environ['OPENAI_API_KEY'] = os.getenv('OPENAI_API_KEY')\n",
    "os.environ['PINECONE_API_KEY'] = os.getenv('PINECONE_API_KEY')\n",
    "os.environ['LANGCHAIN_TRACING_V2']='true'\n",
    "os.environ['LANGCHAIN_API_KEY']=os.getenv('LANGCHAIN_API_KEY')\n",
    "\n",
    "pinecone_api_key = os.environ.get(\"PINECONE_API_KEY\")\n",
    "\n",
    "pc = Pinecone(api_key=pinecone_api_key)"
   ]
  },
  {
   "cell_type": "code",
   "execution_count": 7,
   "metadata": {},
   "outputs": [],
   "source": [
    "import time\n",
    "\n",
    "index_name = \"hybrid\"  # change if desired\n",
    "\n",
    "existing_indexes = [index_info[\"name\"] for index_info in pc.list_indexes()]\n",
    "\n",
    "if index_name not in existing_indexes:\n",
    "    pc.create_index(\n",
    "        name=index_name,\n",
    "        dimension=3072,\n",
    "        metric=\"cosine\",\n",
    "        spec=ServerlessSpec(cloud=\"aws\", region=\"us-east-1\"),\n",
    "    )\n",
    "    while not pc.describe_index(index_name).status[\"ready\"]:\n",
    "        time.sleep(1)\n",
    "\n",
    "index = pc.Index(index_name)"
   ]
  },
  {
   "cell_type": "code",
   "execution_count": 8,
   "metadata": {},
   "outputs": [],
   "source": [
    "from langchain_openai import OpenAIEmbeddings\n",
    "\n",
    "embeddings = OpenAIEmbeddings(model=\"text-embedding-3-large\")"
   ]
  },
  {
   "cell_type": "code",
   "execution_count": 11,
   "metadata": {},
   "outputs": [
    {
     "data": {
      "text/plain": [
       "[Document(metadata={'source': 'books/chemistry/ch2.pdf', 'page': 0}, page_content=\"2.CLASSIFICATION OF COMPOUNDS \\n \\n1 \\n SANKALP GROUP OF SCHOOLS \\n  \\nCLASSIFICATION AND NAMING OF CHEMICAL COMPOUNDS \\nUnderstanding the Categories of Compounds in Chemistry \\nIn the vast domain of chemistry, there are numerous compounds, each having unique properties and \\nbehavior. Studying each one individually would be an overwhelming task, but thankfully, these \\nchemical compounds can be classified into certain groups. This means that by knowing the category \\nto which a compound belongs, we can quickly understand its basic properties. \\nFor instance, consider hydrochloric acid ( HCl). This compound falls under the category of acids. So, \\nby understanding the general characteristics and behaviors of acids, we can predict those of HCl. \\nPrimarily, we can categorize most compounds into five main groups: \\n1. Acids \\n2. Bases \\n3. Salts \\n4. Metallic Oxides \\n5. Non-metallic Oxides \\nThe first three types - acids, bases, and salts - are considered the most significant in the realm of \\nchemistry. \\nCategorizing Common Compounds \\nHere's how you can classify common compounds based on their chemical formulas: \\n• Acids: Generally, acids can be recognized when hydrogen (H) is written first in the \\nchemical formula, followed by a non-metallic element or group of elements. For example, \\nhydrochloric acid (HCl), hydrobromic acid (HBr), sulfuric acid (H2SO4), and chloric \\nacid (HClO3). \\n• Bases: Bases typically contain a hydroxide (OH) group at the end of their chemical \\nformula, with the initial part of the formula usually being a metal. Examples of bases \\ninclude potassium hydroxide (𝐊𝐎𝐇), sodium hydroxide (NaOH), and calcium hydroxide \\n(Ca(OH)2). \\n• Salts: Salts consist of a metal followed by a non-metal or group of non-metals in the \\nformula. Some examples are sodium bromide ( NaBr), potassium chloride ( KCI), iron(II) \\nsulfate (FeSO4), calcium nitrate (Ca(NO3)2), and aluminum sulfate (Al2(SO4)3). \\n• Oxides: Oxides are compounds that contain oxygen (𝑂) combined with another element. \\nWhen this second element is a non-metal, the resulting compound is a non-metallic oxide \\nor an acidic anhydride. This naming convention comes from the fact that under certain \\nconditions, adding water to a non-metal oxide produces an acid. For instance, combining \\ncarbon dioxide (𝐂𝐎2), a non-metal oxide, with water (H2𝐎) results in carbonic acid \\n(H2CO3) : \\nCO2 + H2O → H2CO3 \\nSimilarly, if we remove water from an acid containing oxygen, we get an acid anhydride: \\nH2SO4 → H2O + SO3 \\nH2SO3 → H2O + SO2 \\n2HNO3 → H2O + N2O5 \\n• If the element combined with oxygen is a metal, the resulting compound is a metallic oxide or \\na basic anhydride. Adding water to these compounds under appropriate conditions produces \\nbases: CaO + H2O → Ca(OH)2 \\nIn-Depth Study: Acids \\nAcids conventionally contain hydrogen, which can be replaced by metals. The non-hydrogen part of \\nthe acid molecule, or the anion, is usually composed of a non-metal. Acids are covalent compounds, \\nmeaning the atoms within them are held together by the sharing of electrons. When an acid dissolves \\nin water, it ionizes, leading to the transfer of a hydrogen ion (H+, or proton) from the acid molecule to \\na water molecule: HCl + H2O → H3O+ + Cl− \\nIn this reaction, the H3O+ion is called a hydronium ion and represents a hydrogen ion ( H+) \\nsurrounded by water molecules (H2O). While the ionization of acids in water depends on the \\nformation of the hydronium ion, we usually simplify things by using the H+ion in equations. \\nThe primary characteristic of an acid is its ability to furnish hydrogen ions (H+). Therefore, an acid is \\ntypically defined as a substance that can provide H+ions when dissolved in water. \"),\n",
       " Document(metadata={'source': 'books/chemistry/ch2.pdf', 'page': 1}, page_content='2.CLASSIFICATION OF COMPOUNDS \\n \\n \\n2 \\n             SANKALP GROUP OF SCHOOLS \\n \\nProperties of Acids: \\nAqueous solutions of acids generally have the following properties: \\n• They taste sour. Citric acid in citrus fruits like lemons and oranges, and lactic acid in sour \\nmilk, are responsible for their sour taste. \\n• They turn blue litmus paper red. Litmus is a dye that changes color based on the acidity or \\nalkalinity of a solution. It is red in acidic solutions and blue in basic ones. Other substances \\nthat can help us determine if a solution is acidic or basic are called indicators, which include \\nphenolphthalein and methyl orange. \\n• They react with certain metals to produce hydrogen. \\n• They react with bases to produce a salt and water, a reaction known as neutralization. \\nCommon strong acids include sulfuric acid (H2SO4), nitric acid (HNO3), hydrochloric acid \\n(HCl), hydrobromic acid ( HBr), and hydroiodic acid (HI). Most other acids are only partially \\nionized, making them moderately strong or weak. \\nNaming Acids \\nThe names of acids are typically derived from the names of their negative ions (anions), with the \\nsuffix changing as follows: \\n• Anions ending in \"-ate\" lead to acids ending in \"-ic\". For example, sulfate (SO4 2−) becomes \\nsulfuric acid (H2SO4). \\n• Anions ending in \"-ite\" lead to acids ending in \"-ous\". For example, nitrite (NO2\\n−)becomes \\nnitrous acid (HNO2). \\n• Anions ending in \"-ide\" lead to acids starting with \"hydro-\" and ending in \"-ic\". For example, \\nchloride (Cl−)becomes hydrochloric acid (HCl). \\nThere are a few exceptions to these rules, for example sulfuric acid (H2SO4) and phosphoric \\nacid (H3PO4) \\nIn-Depth Study: Bases \\nMetallic hydroxides are typically classified as bases. Among common bases, sodium hydroxide \\n(NaOH), potassium hydroxide (KOH), calcium hydroxide (Ca(OH)2), and barium hydroxide \\n(Ba(OH)2) are considerably soluble in water. When these compounds dissolve in water, the common \\nproduct is the hydroxide ion (OH−): \\nNaOH → Na+ + OH− \\nKOH → K+ + OH− \\nCa(OH)2 → Ca2+ + 2OH− \\nBa(OH)2 → Ba2+ + 2OH− \\nAmmonia (NH3) in water is also considered a base because it leads to the presence of OH−ions. \\nProperties of Bases \\nWater solutions of metallic hydroxides (bases) generally have the following properties: \\n1. They taste bitter. \\n2. They have a soapy or slippery feel. \\n3. They turn red litmus paper blue. \\n4. They react with acids to form salts and water, also known as neutralization reactions. \\n5. Most metallic hydroxides are insoluble in water. Of the common ones, only NaOH, KOH, \\nCa(OH)2, Ba(OH)2, and NH3 are soluble. \\nSALTS \\nSalts are substances that are produced when an acid reacts with a base. Let\\'s understand this concept \\nwith some examples. \\nConsider the reaction between hydrochloric acid (HCl) and potassium hydroxide (KOH). In this \\nreaction, the hydrogen from the acid combines with the hydroxide ion from the base to form water \\n(H2O) and the remaining elements (chlorine from the acid and potassium from the base) form a salt, \\npotassium chloride ( KCl). \\nKOH + HCl → KCl + H2O \\nSimilarly, when sodium hydroxide (NaOH) reacts with hydrobromic acid (HBr), we get sodium \\nbromide (NaBr) and water H2O. \\nNaOH + HBr → NaBr + H2O '),\n",
       " Document(metadata={'source': 'books/chemistry/ch2.pdf', 'page': 2}, page_content='2.CLASSIFICATION OF COMPOUNDS \\n \\n3 \\n SANKALP GROUP OF SCHOOLS \\n  \\nThis type of reaction where an acid reacts with a base and produces a salt and water is called \\nneutralization. If we were to evaporate all the water from the solution after the reaction, we would be \\nleft with a solid crystal-like structure of salt. This structure is formed due to the interaction between \\npositive ions from the base and negative ions from the acid. \\nNow, salts are not just the product of acid-base reactions. They are also compounds formed from the \\ncombination of metallic ions and non-metallic ions. They make up a significant portion of inorganic \\ncompounds and many are of industrial importance. For instance, sodium chloride manufacturing of \\nphosphate fertilizers. Sodium carbonate (Na2CO3) is commonly known as washing soda, and silver \\nbromide (AgBr) is used in photographic films. \\nNAMING METAL OXIDES, BASES AND SALTS (NOMENCLATURE) \\nChemists have come up with systems to name different substances so that we can differentiate one \\nfrom another. There are two main systems: the Classical system and the Stock system. \\n(a) Classical System: In this system, different suffixes are used to indicate different charges on a \\nmetallic ion. The suffix \"-ous\" is used for a lower charge and \"-ic\" for a higher charge. For example, \\nin iron ( Fe ) compounds, if we have FeO, where iron has a lower charge, it is named \"ferrous oxide\", \\nand if we have Fe2O3, where iron has a higher charge, it\\'s called \"ferric oxide\". \\n(b) Stock System: This system was introduced by Alfred Stock, an inorganic chemist. In this system, \\nRoman numerals are used to indicate the positive charge on a metallic ion in a compound. Following \\nthis system, Fe2O3 is called Iron (III) Oxide. \\nThe naming of inorganic compounds also takes into consideration whether the compound is binary \\n(contains two elements) or ternary (contains three elements). Let\\'s understand this with some \\nexamples. \\n1 Binary and Related Compounds: Binary compounds contain only two elements. The names are \\nderived from the names of these elements. For example, a compound of sodium ( Na) and chlorine \\n(Cl) would be named sodium chloride (NaCl). \\n(a) Binary Compounds of Non-Metals: To name these, Greek prefixes are used to indicate the \\nnumber of atoms of each element in the compound. However, the prefix \"mono\" is usually not used, \\nand the absence of a prefix signifies the presence of a single atom. \\nThe naming process is as follows: \\n• Add the Greek prefix (except mono) that indicates the number of atoms of the first element in \\nthe formula, followed by the name of this element. \\n• Add the Greek prefix (except mono) that indicates the number of atoms of the second element \\nin the formula, followed by the root of the name of this element, with an ending \"-ide\". \\nFor example, the compound As2S3 is called \"Diarsenic trisulphide\" (As = Arsenic, S = Sulphur) and \\nSO2 is called \"Sulfur dioxide\". \\nFor example, the compound As2S3 is called \"Diarsenic trisulphide\" (As = Arsenic, S = Sulphur) and \\nSO2 is called \"Sulfur dioxide\". \\nGreek Prefixes: \\n• Mono (1) \\n• Di (2) \\n• Tri (3) \\n• Tetra (4) \\n• Penta (5) \\n• Hexa (6) \\n• Hepta (7) \\n• Octa (8) \\n• Nona (9) \\n• Deca (10) \\nHere are more examples: \\n• CO (Carbon monoxide) \\n• CO2 (Carbon dioxide) \\n• N2O (Dinitrogen monoxide) \\n• N2O3 (Dinitrogen trioxide) \\n• N2O4 (Dinitrogen tetroxide) '),\n",
       " Document(metadata={'source': 'books/chemistry/ch2.pdf', 'page': 3}, page_content=\"2.CLASSIFICATION OF COMPOUNDS \\n \\n \\n4 \\n             SANKALP GROUP OF SCHOOLS \\n \\n(b) Binary compounds containing a metal and a non-metal: These are named by specifying the \\noxidation number (or valence) of the metal, especially when metals have variable oxidation states. \\nFor instance, FeCl2, where iron has an oxidation number of +2, is called Iron (II) chloride, while \\nFeCl3, where iron has an oxidation number of +3, is named Iron (III) chloride. \\nHere are more examples: \\n• CuO (Copper (II) Oxide) \\n• Cu2O (Copper (I) Oxide) \\n• PbO (Lead (II) Oxide) \\n•  PbO2(Lead (IV) Oxide) \\n1 Ternary Compounds: These contain three elements, one of which is usually oxygen. \\nExample: \\n• Na2CO3 (Sodium carbonate) \\n• CaSO4 (Calcium sulphate) \\nDOUBLE SALTS \\nDouble salts are special types of salts that contain more than one cation (positive ion). When naming \\nthem, we arrange the cations in the order of their increasing valence, except for hydrogen which is \\nplaced last of all cations. Within a valence group, the cations are arranged alphabetically. Some \\nexamples include: \\n• KAl(SO4)2 (Potassium aluminium sulfate) \\n• (NH4)2Fe(SO4)2 (Ammonium iron sulfate) \\n• FeSO4(NH4)2SO4(Iron ammonium sulfate) \\nACID SALTS \\nAcid salts, or hydrogen salts, are compounds containing replaceable hydrogen or hydrogens. To name \\nthese salts, the word 'hydrogen' is added with a numerical prefix (where necessary) to indicate the \\nreplaceable hydrogen in the salt. The word 'hydrogen' is placed in front of the name of the anion. \\nFor example: \\n• NaHSO4 is Sodium hydrogen sulfate \\n• NaH2PO4 is Sodium dihydrogen phosphate \\nSample Example 1. Classify the following compounds as (1) acids  (2) bases (3) salts  (4) acidic \\nanhydrides  (5) basic anhydrides \\n \\n(a) LiOH    (b) K2O     (c) HNO3   (d) SO2    (e) BaCl2   \\n(f) CaSO4    (g) H2SO3    (h) Cr(OH)3  (i) CO2    (j) BaO \\n \\nNames of Some Non-metal Oxides \\nFormula Name \\nCO Carbon (II) oxide Carbon monoxide \\nCO2 Carbon (IV) oxide Carbon dioxide \\nSO3 Sulphur (VI) oxide Sulphur trioxide \\nN2O3 Nitrogen (III) oxide Dinitrogen trioxide \\nN2O5 Nitrogen (V) oxide Dinitrogen pentoxide \\nCl2O7 Chlorine (VII) oxide Dichlorine heptoxide \\n \\nEXERCISE 1  \\n1. Classify the following compounds as (1) Acids, (2) Bases and (3) Salts: \\n(a) Al2(SO4)3    (b) Zn(OH)2    (c) KI    (d) HNO2    (e) HIO3   \\n(f) ZnSO3     (g) Ba(OH)2    (h) Na3PO4   (i) HPO3. \\n2. Write the formulas for the anhydrides of the following acids and bases: \\n(1) H2SO3    (2) HClO    (3) Zn(OH)2   (4) Al(OH)3   (5) H3PO4. \"),\n",
       " Document(metadata={'source': 'books/chemistry/ch2.pdf', 'page': 4}, page_content='2.CLASSIFICATION OF COMPOUNDS \\n \\n5 \\n SANKALP GROUP OF SCHOOLS \\n  \\n3. Write the anhydrides of the following acids \\n(i) Pyrophosphoric acid (H4P2O7)        (ii) Orthophosphoric acid (H3PO4) \\n(iii) Phosphorus acid (H3PO3)       (iv) Metaphosphoric acid (HPO3) \\n4. Give the name of oxide of nitrogen and oxide of phosphorous which represents the anhydride \\nof the mixture of acids: \\n5. Give formulae of the acids and their anhydrides. \\n(a) Nitric acid  (b) Nitrous acid  (c) Carbonic acid (d) Chlorous acid  \\n6. (e) Chloric acid  (f) Perchloric acid (g) Manganic acid \\n7. Write the chemical formulae of the acid ions (anions) of the following inorganic acids. \\n(a) Iodic acid  (b) Periodic acid (c) Oleum  (d) Manganic acid \\n(e) Permanganic acid (f) Chromic acid (g) Hydrazoic acid \\n8. Write formula for : \\n(a) Hydriodic acid (b) Iodic acid    (c) Iodous acid     (d) Periodic acid  \\n(e) Chloric acid  (f) Chlorous acid  (g) Perchloric acid       (h) Hypohalous acid \\n9. Name the ion (anion) which is produced when each of the following acids is neutralized by a \\nbase (KOH) \\n(a) HCl             (b) HNO3     (c) H2SO4     (d) HIO3         \\n(e) CH3COOH      (f) H3PO4      (g) HiO3        (h) HClO2 \\n10. Name the ion (cation) which is produced when each of the following bases is neutralized by \\nsulphuric acid (oil of vitriol) \\n(a) NaOH  (b) Ca(OH)2    (c) Al(OH)3    (d) KOH       \\n(e) Ba(OH)2     (f) Mg(OH)2      (g) Fe(OH)3 \\n11. A metal M forms a sulphate M2SO4. The formula of Arsenic acid is H3AsO4. What is the \\nformula of metal arsenate? \\n12. A metal 𝑀 forms a phosphate of the formula M3(PO4)2. The formula of sulphuric acid is \\nH2SO4. From this information, determine the formula of Metal sulphate. \\n13. Write formulas for the acids to be obtained from the following acid ions (anions). Give names \\nof the acids: \\n(i) Sulphide  (ii) Sulphite  (iii) Sulphate \\n(iv) Pyrosulphate (v) Peroxodisulphate (vi) Bisulphate. \\n14. Supply formulae for the following compounds: \\n(a) Ferrous bromide    (b) Stannous chloride    (c) Ferric bromide  \\n(d) Stannic chloride.                 (e) Iron (II) iodide  (f) Cupric acetate          \\n(g) Copper (II) sulphate     (h) Mercury    (i) chloride \\n15.  Classify each of the following compounds as: Acid, Base and Salt. \\n(a) Ca(OH)2     (b) Ba(NO3)2   (c) ZnSO4   (d) HI     (e) NH4 F     (f) Al(OH)3     (g) CuCrO4      \\n(h) HCN          (i) H3AsO4 \\n16. Give the formula of the salts listed below and indicate the type of each salt (acidic, basic or \\nnormal) \\n Name of Salt Formation of salt Type of Salt \\n(a) Sodium dihydrogen phosphate ⋯ ⋯ ⋯ ⋯ ⋯ ⋯ … … … … … \\n(b) Ammonium hydrogen sulphide ⋯ ⋯ ⋯ ⋯ ⋯ ⋯ ………... \\n(c) Sodium sulphate ⋯ ⋯ ⋯ ⋯ ⋯ ⋯ ………... \\n(d) Potassium silicate ............. .............. \\n(e) Calcium hydrogen phosphate ⋯ ⋯ ⋯ ⋯ ⋯ ⋯ ……… \\n(𝑓) Magnesium bicarbonate … … … … … … … … … … … … … \\n(𝑔) Dihydroxo iron chloride … … … … … … … … … … … … \\n(h) Hydroxo copper carbonate ………... ……...... '),\n",
       " Document(metadata={'source': 'books/chemistry/ch2.pdf', 'page': 5}, page_content='2.CLASSIFICATION OF COMPOUNDS \\n \\n \\n6 \\n             SANKALP GROUP OF SCHOOLS \\n \\n17. The following oxides react with water. Accord name to the acid or base formed. \\n(a) SO2, SO3, P2O3,  N2O5, CO2  (b) BaO, Li2O, Al2O3, ZnO, Na2O \\n18. Using the below sequence write down the compounds for given substances. \\nSimple substance → oxide ⟶ Hydroxide ⟶ salt \\n(a) Cu ⟶  -   - - \\n(b) S ⟶   -   - - \\n(c) Ca ⟶  -   - - \\n(d)C →   - - - \\n19. Using the below sequence write down the compounds for given substances. \\nSimple substance → oxide ⟶ Hydroxide ⟶ salt \\n(a) Zn ⟶              -           -                   - \\n(b) K ⟶             - -         - \\n(c) Na ⟶  - -  - \\n(d)Mg →  - -  - \\n20.  Based on the scheme below, name two elements, starting from which you can obtain two \\nhydroxides which can interact to yield a salt. \\n \\n21.  From the scheme presented below, name a pair of elements that can be used to obtain two \\noxides which react to yield a salt. \\n \\n \\n \\n \\n \\n \\n \\n')]"
      ]
     },
     "execution_count": 11,
     "metadata": {},
     "output_type": "execute_result"
    }
   ],
   "source": [
    "from langchain_community.document_loaders import PyPDFLoader\n",
    "pdf = 'books/chemistry/ch2.pdf'\n",
    "\n",
    "loader = PyPDFLoader(pdf)\n",
    "doc = loader.load()\n",
    "doc"
   ]
  },
  {
   "cell_type": "code",
   "execution_count": 12,
   "metadata": {},
   "outputs": [
    {
     "data": {
      "text/plain": [
       "[Document(metadata={'source': 'books/chemistry/ch2.pdf', 'page': 0}, page_content=\"2.CLASSIFICATION OF COMPOUNDS \\n \\n1 \\n SANKALP GROUP OF SCHOOLS \\n  \\nCLASSIFICATION AND NAMING OF CHEMICAL COMPOUNDS \\nUnderstanding the Categories of Compounds in Chemistry \\nIn the vast domain of chemistry, there are numerous compounds, each having unique properties and \\nbehavior. Studying each one individually would be an overwhelming task, but thankfully, these \\nchemical compounds can be classified into certain groups. This means that by knowing the category \\nto which a compound belongs, we can quickly understand its basic properties. \\nFor instance, consider hydrochloric acid ( HCl). This compound falls under the category of acids. So, \\nby understanding the general characteristics and behaviors of acids, we can predict those of HCl. \\nPrimarily, we can categorize most compounds into five main groups: \\n1. Acids \\n2. Bases \\n3. Salts \\n4. Metallic Oxides \\n5. Non-metallic Oxides \\nThe first three types - acids, bases, and salts - are considered the most significant in the realm of \\nchemistry. \\nCategorizing Common Compounds \\nHere's how you can classify common compounds based on their chemical formulas: \\n• Acids: Generally, acids can be recognized when hydrogen (H) is written first in the \\nchemical formula, followed by a non-metallic element or group of elements. For example, \\nhydrochloric acid (HCl), hydrobromic acid (HBr), sulfuric acid (H2SO4), and chloric \\nacid (HClO3). \\n• Bases: Bases typically contain a hydroxide (OH) group at the end of their chemical \\nformula, with the initial part of the formula usually being a metal. Examples of bases \\ninclude potassium hydroxide (𝐊𝐎𝐇), sodium hydroxide (NaOH), and calcium hydroxide \\n(Ca(OH)2). \\n• Salts: Salts consist of a metal followed by a non-metal or group of non-metals in the \\nformula. Some examples are sodium bromide ( NaBr), potassium chloride ( KCI), iron(II) \\nsulfate (FeSO4), calcium nitrate (Ca(NO3)2), and aluminum sulfate (Al2(SO4)3). \\n• Oxides: Oxides are compounds that contain oxygen (𝑂) combined with another element. \\nWhen this second element is a non-metal, the resulting compound is a non-metallic oxide \\nor an acidic anhydride. This naming convention comes from the fact that under certain \\nconditions, adding water to a non-metal oxide produces an acid. For instance, combining \\ncarbon dioxide (𝐂𝐎2), a non-metal oxide, with water (H2𝐎) results in carbonic acid \\n(H2CO3) : \\nCO2 + H2O → H2CO3 \\nSimilarly, if we remove water from an acid containing oxygen, we get an acid anhydride: \\nH2SO4 → H2O + SO3 \\nH2SO3 → H2O + SO2 \\n2HNO3 → H2O + N2O5 \\n• If the element combined with oxygen is a metal, the resulting compound is a metallic oxide or \\na basic anhydride. Adding water to these compounds under appropriate conditions produces \\nbases: CaO + H2O → Ca(OH)2 \\nIn-Depth Study: Acids \\nAcids conventionally contain hydrogen, which can be replaced by metals. The non-hydrogen part of \\nthe acid molecule, or the anion, is usually composed of a non-metal. Acids are covalent compounds,\"),\n",
       " Document(metadata={'source': 'books/chemistry/ch2.pdf', 'page': 0}, page_content='H2SO4 → H2O + SO3 \\nH2SO3 → H2O + SO2 \\n2HNO3 → H2O + N2O5 \\n• If the element combined with oxygen is a metal, the resulting compound is a metallic oxide or \\na basic anhydride. Adding water to these compounds under appropriate conditions produces \\nbases: CaO + H2O → Ca(OH)2 \\nIn-Depth Study: Acids \\nAcids conventionally contain hydrogen, which can be replaced by metals. The non-hydrogen part of \\nthe acid molecule, or the anion, is usually composed of a non-metal. Acids are covalent compounds, \\nmeaning the atoms within them are held together by the sharing of electrons. When an acid dissolves \\nin water, it ionizes, leading to the transfer of a hydrogen ion (H+, or proton) from the acid molecule to \\na water molecule: HCl + H2O → H3O+ + Cl− \\nIn this reaction, the H3O+ion is called a hydronium ion and represents a hydrogen ion ( H+) \\nsurrounded by water molecules (H2O). While the ionization of acids in water depends on the \\nformation of the hydronium ion, we usually simplify things by using the H+ion in equations. \\nThe primary characteristic of an acid is its ability to furnish hydrogen ions (H+). Therefore, an acid is \\ntypically defined as a substance that can provide H+ions when dissolved in water.'),\n",
       " Document(metadata={'source': 'books/chemistry/ch2.pdf', 'page': 1}, page_content='2.CLASSIFICATION OF COMPOUNDS \\n \\n \\n2 \\n             SANKALP GROUP OF SCHOOLS \\n \\nProperties of Acids: \\nAqueous solutions of acids generally have the following properties: \\n• They taste sour. Citric acid in citrus fruits like lemons and oranges, and lactic acid in sour \\nmilk, are responsible for their sour taste. \\n• They turn blue litmus paper red. Litmus is a dye that changes color based on the acidity or \\nalkalinity of a solution. It is red in acidic solutions and blue in basic ones. Other substances \\nthat can help us determine if a solution is acidic or basic are called indicators, which include \\nphenolphthalein and methyl orange. \\n• They react with certain metals to produce hydrogen. \\n• They react with bases to produce a salt and water, a reaction known as neutralization. \\nCommon strong acids include sulfuric acid (H2SO4), nitric acid (HNO3), hydrochloric acid \\n(HCl), hydrobromic acid ( HBr), and hydroiodic acid (HI). Most other acids are only partially \\nionized, making them moderately strong or weak. \\nNaming Acids \\nThe names of acids are typically derived from the names of their negative ions (anions), with the \\nsuffix changing as follows: \\n• Anions ending in \"-ate\" lead to acids ending in \"-ic\". For example, sulfate (SO4 2−) becomes \\nsulfuric acid (H2SO4). \\n• Anions ending in \"-ite\" lead to acids ending in \"-ous\". For example, nitrite (NO2\\n−)becomes \\nnitrous acid (HNO2). \\n• Anions ending in \"-ide\" lead to acids starting with \"hydro-\" and ending in \"-ic\". For example, \\nchloride (Cl−)becomes hydrochloric acid (HCl). \\nThere are a few exceptions to these rules, for example sulfuric acid (H2SO4) and phosphoric \\nacid (H3PO4) \\nIn-Depth Study: Bases \\nMetallic hydroxides are typically classified as bases. Among common bases, sodium hydroxide \\n(NaOH), potassium hydroxide (KOH), calcium hydroxide (Ca(OH)2), and barium hydroxide \\n(Ba(OH)2) are considerably soluble in water. When these compounds dissolve in water, the common \\nproduct is the hydroxide ion (OH−): \\nNaOH → Na+ + OH− \\nKOH → K+ + OH− \\nCa(OH)2 → Ca2+ + 2OH− \\nBa(OH)2 → Ba2+ + 2OH− \\nAmmonia (NH3) in water is also considered a base because it leads to the presence of OH−ions. \\nProperties of Bases \\nWater solutions of metallic hydroxides (bases) generally have the following properties: \\n1. They taste bitter. \\n2. They have a soapy or slippery feel. \\n3. They turn red litmus paper blue. \\n4. They react with acids to form salts and water, also known as neutralization reactions. \\n5. Most metallic hydroxides are insoluble in water. Of the common ones, only NaOH, KOH, \\nCa(OH)2, Ba(OH)2, and NH3 are soluble. \\nSALTS \\nSalts are substances that are produced when an acid reacts with a base. Let\\'s understand this concept \\nwith some examples. \\nConsider the reaction between hydrochloric acid (HCl) and potassium hydroxide (KOH). In this \\nreaction, the hydrogen from the acid combines with the hydroxide ion from the base to form water'),\n",
       " Document(metadata={'source': 'books/chemistry/ch2.pdf', 'page': 1}, page_content=\"5. Most metallic hydroxides are insoluble in water. Of the common ones, only NaOH, KOH, \\nCa(OH)2, Ba(OH)2, and NH3 are soluble. \\nSALTS \\nSalts are substances that are produced when an acid reacts with a base. Let's understand this concept \\nwith some examples. \\nConsider the reaction between hydrochloric acid (HCl) and potassium hydroxide (KOH). In this \\nreaction, the hydrogen from the acid combines with the hydroxide ion from the base to form water \\n(H2O) and the remaining elements (chlorine from the acid and potassium from the base) form a salt, \\npotassium chloride ( KCl). \\nKOH + HCl → KCl + H2O \\nSimilarly, when sodium hydroxide (NaOH) reacts with hydrobromic acid (HBr), we get sodium \\nbromide (NaBr) and water H2O. \\nNaOH + HBr → NaBr + H2O\"),\n",
       " Document(metadata={'source': 'books/chemistry/ch2.pdf', 'page': 2}, page_content='2.CLASSIFICATION OF COMPOUNDS \\n \\n3 \\n SANKALP GROUP OF SCHOOLS \\n  \\nThis type of reaction where an acid reacts with a base and produces a salt and water is called \\nneutralization. If we were to evaporate all the water from the solution after the reaction, we would be \\nleft with a solid crystal-like structure of salt. This structure is formed due to the interaction between \\npositive ions from the base and negative ions from the acid. \\nNow, salts are not just the product of acid-base reactions. They are also compounds formed from the \\ncombination of metallic ions and non-metallic ions. They make up a significant portion of inorganic \\ncompounds and many are of industrial importance. For instance, sodium chloride manufacturing of \\nphosphate fertilizers. Sodium carbonate (Na2CO3) is commonly known as washing soda, and silver \\nbromide (AgBr) is used in photographic films. \\nNAMING METAL OXIDES, BASES AND SALTS (NOMENCLATURE) \\nChemists have come up with systems to name different substances so that we can differentiate one \\nfrom another. There are two main systems: the Classical system and the Stock system. \\n(a) Classical System: In this system, different suffixes are used to indicate different charges on a \\nmetallic ion. The suffix \"-ous\" is used for a lower charge and \"-ic\" for a higher charge. For example, \\nin iron ( Fe ) compounds, if we have FeO, where iron has a lower charge, it is named \"ferrous oxide\", \\nand if we have Fe2O3, where iron has a higher charge, it\\'s called \"ferric oxide\". \\n(b) Stock System: This system was introduced by Alfred Stock, an inorganic chemist. In this system, \\nRoman numerals are used to indicate the positive charge on a metallic ion in a compound. Following \\nthis system, Fe2O3 is called Iron (III) Oxide. \\nThe naming of inorganic compounds also takes into consideration whether the compound is binary \\n(contains two elements) or ternary (contains three elements). Let\\'s understand this with some \\nexamples. \\n1 Binary and Related Compounds: Binary compounds contain only two elements. The names are \\nderived from the names of these elements. For example, a compound of sodium ( Na) and chlorine \\n(Cl) would be named sodium chloride (NaCl). \\n(a) Binary Compounds of Non-Metals: To name these, Greek prefixes are used to indicate the \\nnumber of atoms of each element in the compound. However, the prefix \"mono\" is usually not used, \\nand the absence of a prefix signifies the presence of a single atom. \\nThe naming process is as follows: \\n• Add the Greek prefix (except mono) that indicates the number of atoms of the first element in \\nthe formula, followed by the name of this element. \\n• Add the Greek prefix (except mono) that indicates the number of atoms of the second element \\nin the formula, followed by the root of the name of this element, with an ending \"-ide\". \\nFor example, the compound As2S3 is called \"Diarsenic trisulphide\" (As = Arsenic, S = Sulphur) and \\nSO2 is called \"Sulfur dioxide\".'),\n",
       " Document(metadata={'source': 'books/chemistry/ch2.pdf', 'page': 2}, page_content='• Add the Greek prefix (except mono) that indicates the number of atoms of the first element in \\nthe formula, followed by the name of this element. \\n• Add the Greek prefix (except mono) that indicates the number of atoms of the second element \\nin the formula, followed by the root of the name of this element, with an ending \"-ide\". \\nFor example, the compound As2S3 is called \"Diarsenic trisulphide\" (As = Arsenic, S = Sulphur) and \\nSO2 is called \"Sulfur dioxide\". \\nFor example, the compound As2S3 is called \"Diarsenic trisulphide\" (As = Arsenic, S = Sulphur) and \\nSO2 is called \"Sulfur dioxide\". \\nGreek Prefixes: \\n• Mono (1) \\n• Di (2) \\n• Tri (3) \\n• Tetra (4) \\n• Penta (5) \\n• Hexa (6) \\n• Hepta (7) \\n• Octa (8) \\n• Nona (9) \\n• Deca (10) \\nHere are more examples: \\n• CO (Carbon monoxide) \\n• CO2 (Carbon dioxide) \\n• N2O (Dinitrogen monoxide) \\n• N2O3 (Dinitrogen trioxide) \\n• N2O4 (Dinitrogen tetroxide)'),\n",
       " Document(metadata={'source': 'books/chemistry/ch2.pdf', 'page': 3}, page_content=\"2.CLASSIFICATION OF COMPOUNDS \\n \\n \\n4 \\n             SANKALP GROUP OF SCHOOLS \\n \\n(b) Binary compounds containing a metal and a non-metal: These are named by specifying the \\noxidation number (or valence) of the metal, especially when metals have variable oxidation states. \\nFor instance, FeCl2, where iron has an oxidation number of +2, is called Iron (II) chloride, while \\nFeCl3, where iron has an oxidation number of +3, is named Iron (III) chloride. \\nHere are more examples: \\n• CuO (Copper (II) Oxide) \\n• Cu2O (Copper (I) Oxide) \\n• PbO (Lead (II) Oxide) \\n•  PbO2(Lead (IV) Oxide) \\n1 Ternary Compounds: These contain three elements, one of which is usually oxygen. \\nExample: \\n• Na2CO3 (Sodium carbonate) \\n• CaSO4 (Calcium sulphate) \\nDOUBLE SALTS \\nDouble salts are special types of salts that contain more than one cation (positive ion). When naming \\nthem, we arrange the cations in the order of their increasing valence, except for hydrogen which is \\nplaced last of all cations. Within a valence group, the cations are arranged alphabetically. Some \\nexamples include: \\n• KAl(SO4)2 (Potassium aluminium sulfate) \\n• (NH4)2Fe(SO4)2 (Ammonium iron sulfate) \\n• FeSO4(NH4)2SO4(Iron ammonium sulfate) \\nACID SALTS \\nAcid salts, or hydrogen salts, are compounds containing replaceable hydrogen or hydrogens. To name \\nthese salts, the word 'hydrogen' is added with a numerical prefix (where necessary) to indicate the \\nreplaceable hydrogen in the salt. The word 'hydrogen' is placed in front of the name of the anion. \\nFor example: \\n• NaHSO4 is Sodium hydrogen sulfate \\n• NaH2PO4 is Sodium dihydrogen phosphate \\nSample Example 1. Classify the following compounds as (1) acids  (2) bases (3) salts  (4) acidic \\nanhydrides  (5) basic anhydrides \\n \\n(a) LiOH    (b) K2O     (c) HNO3   (d) SO2    (e) BaCl2   \\n(f) CaSO4    (g) H2SO3    (h) Cr(OH)3  (i) CO2    (j) BaO \\n \\nNames of Some Non-metal Oxides \\nFormula Name \\nCO Carbon (II) oxide Carbon monoxide \\nCO2 Carbon (IV) oxide Carbon dioxide \\nSO3 Sulphur (VI) oxide Sulphur trioxide \\nN2O3 Nitrogen (III) oxide Dinitrogen trioxide \\nN2O5 Nitrogen (V) oxide Dinitrogen pentoxide \\nCl2O7 Chlorine (VII) oxide Dichlorine heptoxide \\n \\nEXERCISE 1  \\n1. Classify the following compounds as (1) Acids, (2) Bases and (3) Salts: \\n(a) Al2(SO4)3    (b) Zn(OH)2    (c) KI    (d) HNO2    (e) HIO3   \\n(f) ZnSO3     (g) Ba(OH)2    (h) Na3PO4   (i) HPO3. \\n2. Write the formulas for the anhydrides of the following acids and bases: \\n(1) H2SO3    (2) HClO    (3) Zn(OH)2   (4) Al(OH)3   (5) H3PO4.\"),\n",
       " Document(metadata={'source': 'books/chemistry/ch2.pdf', 'page': 4}, page_content='2.CLASSIFICATION OF COMPOUNDS \\n \\n5 \\n SANKALP GROUP OF SCHOOLS \\n  \\n3. Write the anhydrides of the following acids \\n(i) Pyrophosphoric acid (H4P2O7)        (ii) Orthophosphoric acid (H3PO4) \\n(iii) Phosphorus acid (H3PO3)       (iv) Metaphosphoric acid (HPO3) \\n4. Give the name of oxide of nitrogen and oxide of phosphorous which represents the anhydride \\nof the mixture of acids: \\n5. Give formulae of the acids and their anhydrides. \\n(a) Nitric acid  (b) Nitrous acid  (c) Carbonic acid (d) Chlorous acid  \\n6. (e) Chloric acid  (f) Perchloric acid (g) Manganic acid \\n7. Write the chemical formulae of the acid ions (anions) of the following inorganic acids. \\n(a) Iodic acid  (b) Periodic acid (c) Oleum  (d) Manganic acid \\n(e) Permanganic acid (f) Chromic acid (g) Hydrazoic acid \\n8. Write formula for : \\n(a) Hydriodic acid (b) Iodic acid    (c) Iodous acid     (d) Periodic acid  \\n(e) Chloric acid  (f) Chlorous acid  (g) Perchloric acid       (h) Hypohalous acid \\n9. Name the ion (anion) which is produced when each of the following acids is neutralized by a \\nbase (KOH) \\n(a) HCl             (b) HNO3     (c) H2SO4     (d) HIO3         \\n(e) CH3COOH      (f) H3PO4      (g) HiO3        (h) HClO2 \\n10. Name the ion (cation) which is produced when each of the following bases is neutralized by \\nsulphuric acid (oil of vitriol) \\n(a) NaOH  (b) Ca(OH)2    (c) Al(OH)3    (d) KOH       \\n(e) Ba(OH)2     (f) Mg(OH)2      (g) Fe(OH)3 \\n11. A metal M forms a sulphate M2SO4. The formula of Arsenic acid is H3AsO4. What is the \\nformula of metal arsenate? \\n12. A metal 𝑀 forms a phosphate of the formula M3(PO4)2. The formula of sulphuric acid is \\nH2SO4. From this information, determine the formula of Metal sulphate. \\n13. Write formulas for the acids to be obtained from the following acid ions (anions). Give names \\nof the acids: \\n(i) Sulphide  (ii) Sulphite  (iii) Sulphate \\n(iv) Pyrosulphate (v) Peroxodisulphate (vi) Bisulphate. \\n14. Supply formulae for the following compounds: \\n(a) Ferrous bromide    (b) Stannous chloride    (c) Ferric bromide  \\n(d) Stannic chloride.                 (e) Iron (II) iodide  (f) Cupric acetate          \\n(g) Copper (II) sulphate     (h) Mercury    (i) chloride \\n15.  Classify each of the following compounds as: Acid, Base and Salt. \\n(a) Ca(OH)2     (b) Ba(NO3)2   (c) ZnSO4   (d) HI     (e) NH4 F     (f) Al(OH)3     (g) CuCrO4      \\n(h) HCN          (i) H3AsO4 \\n16. Give the formula of the salts listed below and indicate the type of each salt (acidic, basic or \\nnormal) \\n Name of Salt Formation of salt Type of Salt \\n(a) Sodium dihydrogen phosphate ⋯ ⋯ ⋯ ⋯ ⋯ ⋯ … … … … … \\n(b) Ammonium hydrogen sulphide ⋯ ⋯ ⋯ ⋯ ⋯ ⋯ ………... \\n(c) Sodium sulphate ⋯ ⋯ ⋯ ⋯ ⋯ ⋯ ………... \\n(d) Potassium silicate ............. .............. \\n(e) Calcium hydrogen phosphate ⋯ ⋯ ⋯ ⋯ ⋯ ⋯ ……… \\n(𝑓) Magnesium bicarbonate … … … … … … … … … … … … … \\n(𝑔) Dihydroxo iron chloride … … … … … … … … … … … … \\n(h) Hydroxo copper carbonate ………... ……......'),\n",
       " Document(metadata={'source': 'books/chemistry/ch2.pdf', 'page': 5}, page_content='2.CLASSIFICATION OF COMPOUNDS \\n \\n \\n6 \\n             SANKALP GROUP OF SCHOOLS \\n \\n17. The following oxides react with water. Accord name to the acid or base formed. \\n(a) SO2, SO3, P2O3,  N2O5, CO2  (b) BaO, Li2O, Al2O3, ZnO, Na2O \\n18. Using the below sequence write down the compounds for given substances. \\nSimple substance → oxide ⟶ Hydroxide ⟶ salt \\n(a) Cu ⟶  -   - - \\n(b) S ⟶   -   - - \\n(c) Ca ⟶  -   - - \\n(d)C →   - - - \\n19. Using the below sequence write down the compounds for given substances. \\nSimple substance → oxide ⟶ Hydroxide ⟶ salt \\n(a) Zn ⟶              -           -                   - \\n(b) K ⟶             - -         - \\n(c) Na ⟶  - -  - \\n(d)Mg →  - -  - \\n20.  Based on the scheme below, name two elements, starting from which you can obtain two \\nhydroxides which can interact to yield a salt. \\n \\n21.  From the scheme presented below, name a pair of elements that can be used to obtain two \\noxides which react to yield a salt.')]"
      ]
     },
     "execution_count": 12,
     "metadata": {},
     "output_type": "execute_result"
    }
   ],
   "source": [
    "from langchain.text_splitter import RecursiveCharacterTextSplitter\n",
    "# Initialize the splitter\n",
    "splitter = RecursiveCharacterTextSplitter(\n",
    "    chunk_size=3000,  # Max token size per chunk\n",
    "    chunk_overlap=500,  # Overlap for context retention\n",
    "    separators=[\"\\n\\n\", \"\\n\", \".\", \" \"]  # Split by paragraphs, then sentences\n",
    ")\n",
    "\n",
    "# Apply to text\n",
    "chunks = splitter.split_documents(doc)\n",
    "chunks"
   ]
  },
  {
   "cell_type": "code",
   "execution_count": 13,
   "metadata": {},
   "outputs": [],
   "source": [
    "chunk_texts = [chunk.page_content for chunk in chunks]\n",
    "vector_embeddings = embeddings.embed_documents(chunk_texts)\n"
   ]
  },
  {
   "cell_type": "code",
   "execution_count": 14,
   "metadata": {},
   "outputs": [],
   "source": [
    "from langchain.retrievers import BM25Retriever, EnsembleRetriever"
   ]
  },
  {
   "cell_type": "code",
   "execution_count": 20,
   "metadata": {},
   "outputs": [
    {
     "name": "stdout",
     "output_type": "stream",
     "text": [
      "BM25 retriever loaded.\n"
     ]
    }
   ],
   "source": [
    "# Load BM25Retriever from a file\n",
    "import pickle\n",
    "with open(\"bm25_model.pkl\", \"rb\") as f:\n",
    "    bm25_retriever = pickle.load(f)\n",
    "\n",
    "print(\"BM25 retriever loaded.\")\n"
   ]
  },
  {
   "cell_type": "markdown",
   "metadata": {},
   "source": [
    "from langchain.retrievers import BM25Retriever\n",
    "\n",
    "# Load the BM25 retriever\n",
    "bm25_retriever=BM25Retriever.from_texts(chunk_texts)\n",
    "bm25_retriever"
   ]
  },
  {
   "cell_type": "markdown",
   "metadata": {},
   "source": [
    "import pickle\n",
    "\n",
    "# Save BM25Retriever to a file\n",
    "with open(\"bm25_model.pkl\", \"wb\") as f:\n",
    "    pickle.dump(bm25_retriever, f)\n",
    "\n",
    "print(\"BM25 retriever saved.\")"
   ]
  },
  {
   "cell_type": "code",
   "execution_count": 21,
   "metadata": {},
   "outputs": [
    {
     "data": {
      "text/plain": [
       "['08b9fb35-e2ce-459f-8358-083909670626',\n",
       " '15a08bd2-40fe-44f9-bad1-22d2672f164d',\n",
       " '157dfe5a-8d98-4a48-8918-44d4cc56b199',\n",
       " 'e5270e63-7999-46aa-b366-2ac51260bc60',\n",
       " 'ff2f3b2d-9397-4b54-a6a1-6410a033cc76',\n",
       " '10d63e3b-d232-4d64-a437-901bb20be8ab',\n",
       " 'e70ab342-b7c4-4304-acee-fa435394411b',\n",
       " 'f362fbde-26e3-4a23-859d-a8f95d4b5bd4',\n",
       " 'd1f5a76f-23e1-401c-823f-148924508d8e']"
      ]
     },
     "execution_count": 21,
     "metadata": {},
     "output_type": "execute_result"
    }
   ],
   "source": [
    "from langchain.vectorstores import Pinecone\n",
    "name = 'chem' # agent to find the correct namespace from the index\n",
    "vector_store = Pinecone.from_existing_index(index_name=index_name, embedding=embeddings,namespace=name)\n",
    "\n",
    "from uuid import uuid4\n",
    "uuids = [str(uuid4()) for _ in range(len(chunks))]\n",
    "\n",
    "vector_store.add_documents(documents=chunks, ids=uuids)"
   ]
  }
 ],
 "metadata": {
  "kernelspec": {
   "display_name": ".venv",
   "language": "python",
   "name": "python3"
  },
  "language_info": {
   "codemirror_mode": {
    "name": "ipython",
    "version": 3
   },
   "file_extension": ".py",
   "mimetype": "text/x-python",
   "name": "python",
   "nbconvert_exporter": "python",
   "pygments_lexer": "ipython3",
   "version": "3.11.5"
  }
 },
 "nbformat": 4,
 "nbformat_minor": 2
}
